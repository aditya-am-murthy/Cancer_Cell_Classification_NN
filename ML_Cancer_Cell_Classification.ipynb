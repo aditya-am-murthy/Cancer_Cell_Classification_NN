{
  "cells": [
    {
      "cell_type": "markdown",
      "metadata": {
        "id": "wk98o0Xc4sFp"
      },
      "source": [
        "###Unzip the Data File I've Shared (should take 1 minute)\n",
        "#####Note: the file path will differ per person; I'll show you how to find your file path"
      ]
    },
    {
      "cell_type": "code",
      "execution_count": 1,
      "metadata": {
        "colab": {
          "base_uri": "https://localhost:8080/"
        },
        "id": "I2_opfltLOz0",
        "outputId": "7207d356-f358-430f-a149-5add9f45eaa7"
      },
      "outputs": [],
      "source": [
        "#!unzip /content/drive/MyDrive/CancerCellDataZip.zip"
      ]
    },
    {
      "cell_type": "markdown",
      "metadata": {
        "id": "rjQbNgLn4x8m"
      },
      "source": [
        "Import Commands for Python Libraries"
      ]
    },
    {
      "cell_type": "code",
      "execution_count": 4,
      "metadata": {
        "id": "6d1m8T5A-bhl"
      },
      "outputs": [
        {
          "ename": "ModuleNotFoundError",
          "evalue": "No module named 'tensorflow'",
          "output_type": "error",
          "traceback": [
            "\u001b[0;31m---------------------------------------------------------------------------\u001b[0m",
            "\u001b[0;31mModuleNotFoundError\u001b[0m                       Traceback (most recent call last)",
            "Cell \u001b[0;32mIn[4], line 3\u001b[0m\n\u001b[1;32m      1\u001b[0m \u001b[38;5;28;01mimport\u001b[39;00m \u001b[38;5;21;01mpandas\u001b[39;00m \u001b[38;5;28;01mas\u001b[39;00m \u001b[38;5;21;01mpd\u001b[39;00m\n\u001b[1;32m      2\u001b[0m \u001b[38;5;28;01mimport\u001b[39;00m \u001b[38;5;21;01mnumpy\u001b[39;00m \u001b[38;5;28;01mas\u001b[39;00m \u001b[38;5;21;01mnp\u001b[39;00m\n\u001b[0;32m----> 3\u001b[0m \u001b[38;5;28;01mimport\u001b[39;00m \u001b[38;5;21;01mtensorflow\u001b[39;00m \u001b[38;5;28;01mas\u001b[39;00m \u001b[38;5;21;01mtf\u001b[39;00m\n\u001b[1;32m      4\u001b[0m \u001b[38;5;28;01mfrom\u001b[39;00m \u001b[38;5;21;01mtensorflow\u001b[39;00m \u001b[38;5;28;01mimport\u001b[39;00m keras\n\u001b[1;32m      5\u001b[0m \u001b[38;5;28;01mimport\u001b[39;00m \u001b[38;5;21;01mos\u001b[39;00m\n",
            "\u001b[0;31mModuleNotFoundError\u001b[0m: No module named 'tensorflow'"
          ]
        }
      ],
      "source": [
        "import pandas as pd\n",
        "import numpy as np\n",
        "import tensorflow as tf\n",
        "from tensorflow import keras\n",
        "import os"
      ]
    },
    {
      "cell_type": "markdown",
      "metadata": {
        "id": "K1kEBQz042lk"
      },
      "source": [
        "Read the data files"
      ]
    },
    {
      "cell_type": "code",
      "execution_count": 4,
      "metadata": {
        "colab": {
          "base_uri": "https://localhost:8080/",
          "height": 225
        },
        "id": "hf24HmESLfd7",
        "outputId": "a10bc362-dfe8-4ed1-d71a-889089d0c24c"
      },
      "outputs": [
        {
          "ename": "FileNotFoundError",
          "evalue": "[Errno 2] No such file or directory: '/content/training_data/fold_0/all'",
          "output_type": "error",
          "traceback": [
            "\u001b[0;31m---------------------------------------------------------------------------\u001b[0m",
            "\u001b[0;31mFileNotFoundError\u001b[0m                         Traceback (most recent call last)",
            "\u001b[0;32m<ipython-input-4-c74ad5473eeb>\u001b[0m in \u001b[0;36m<cell line: 7>\u001b[0;34m()\u001b[0m\n\u001b[1;32m      5\u001b[0m \u001b[0;34m\u001b[0m\u001b[0m\n\u001b[1;32m      6\u001b[0m \u001b[0;31m#list of all the training data\u001b[0m\u001b[0;34m\u001b[0m\u001b[0;34m\u001b[0m\u001b[0m\n\u001b[0;32m----> 7\u001b[0;31m \u001b[0mtrain_cancer_list\u001b[0m \u001b[0;34m=\u001b[0m \u001b[0mos\u001b[0m\u001b[0;34m.\u001b[0m\u001b[0mlistdir\u001b[0m\u001b[0;34m(\u001b[0m\u001b[0mtrain_cancer_dir\u001b[0m\u001b[0;34m)\u001b[0m\u001b[0;34m\u001b[0m\u001b[0;34m\u001b[0m\u001b[0m\n\u001b[0m\u001b[1;32m      8\u001b[0m \u001b[0mtrain_normal_list\u001b[0m \u001b[0;34m=\u001b[0m \u001b[0mos\u001b[0m\u001b[0;34m.\u001b[0m\u001b[0mlistdir\u001b[0m\u001b[0;34m(\u001b[0m\u001b[0mtrain_normal_dir\u001b[0m\u001b[0;34m)\u001b[0m\u001b[0;34m\u001b[0m\u001b[0;34m\u001b[0m\u001b[0m\n",
            "\u001b[0;31mFileNotFoundError\u001b[0m: [Errno 2] No such file or directory: '/content/training_data/fold_0/all'"
          ]
        }
      ],
      "source": [
        "os.chdir(\"/Users/adityacode/Downloads/CancerCellDataZip\")\n",
        "\n",
        "#directory with training data for cancerous cell images\n",
        "train_cancer_dir = '/training_data/fold_0/all'\n",
        "#directory with training data for non-cancerous cell images\n",
        "train_normal_dir = '/training_data/fold_0/hem'\n",
        "\n",
        "#list of all the training data\n",
        "train_cancer_list = os.listdir(train_cancer_dir)\n",
        "train_normal_list = os.listdir(train_normal_dir)"
      ]
    },
    {
      "cell_type": "markdown",
      "metadata": {
        "id": "YW5_n7KV47KL"
      },
      "source": [
        "Check if data files are read... the output should be 3527 if successful"
      ]
    },
    {
      "cell_type": "code",
      "execution_count": null,
      "metadata": {
        "colab": {
          "base_uri": "https://localhost:8080/"
        },
        "id": "iYeGiqfY8ths",
        "outputId": "20ee6e47-e847-434c-c50f-297004136ffe"
      },
      "outputs": [
        {
          "data": {
            "text/plain": [
              "3527"
            ]
          },
          "execution_count": 4,
          "metadata": {},
          "output_type": "execute_result"
        }
      ],
      "source": [
        "len(([1] * len(train_cancer_list) + [0] * len(train_normal_list)))"
      ]
    },
    {
      "cell_type": "code",
      "execution_count": null,
      "metadata": {
        "id": "n8Bci-ZnMNmM"
      },
      "outputs": [],
      "source": [
        "#image generator to generate batches of images\n",
        "train_datagen = keras.preprocessing.image.ImageDataGenerator(rescale=1/255)"
      ]
    },
    {
      "cell_type": "code",
      "execution_count": null,
      "metadata": {
        "colab": {
          "base_uri": "https://localhost:8080/"
        },
        "id": "MqkKbClNMPnU",
        "outputId": "4ec3b3ee-1ab5-4ab5-dd6e-444fa38a7357"
      },
      "outputs": [
        {
          "name": "stdout",
          "output_type": "stream",
          "text": [
            "Found 3527 images belonging to 2 classes.\n"
          ]
        }
      ],
      "source": [
        "# Flow training images in batches of 128 using train_datagen generator\n",
        "train_generator = train_datagen.flow_from_directory(\n",
        "        '/content/training_data/fold_0',  # This is the source directory for training images\n",
        "        target_size=(150, 150),  # All images will be resized to 150x150\n",
        "        batch_size=128,\n",
        "        # Since we use binary_crossentropy loss, we need binary labels\n",
        "        class_mode='binary')\n"
      ]
    },
    {
      "cell_type": "code",
      "execution_count": null,
      "metadata": {
        "id": "8fXA7Ty25443"
      },
      "outputs": [],
      "source": [
        "#model architecture\n",
        "input_shape = (150, 150, 3)\n",
        "\n",
        "# Define architecture\n",
        "model = tf.keras.Sequential()\n",
        "model.add(tf.keras.layers.Conv2D(32, (3, 3), activation='relu', input_shape=input_shape))\n",
        "model.add(tf.keras.layers.MaxPooling2D((2, 2)))\n",
        "model.add(tf.keras.layers.Conv2D(64, (3, 3), activation='relu'))\n",
        "model.add(tf.keras.layers.MaxPooling2D((2, 2)))\n",
        "model.add(tf.keras.layers.Conv2D(128, (3, 3), activation='relu'))\n",
        "model.add(tf.keras.layers.Flatten())\n",
        "model.add(tf.keras.layers.Dense(64, activation='relu'))\n",
        "model.add(tf.keras.layers.Dense(1, activation='sigmoid'))\n"
      ]
    },
    {
      "cell_type": "code",
      "execution_count": null,
      "metadata": {
        "id": "OqPf_U8lMYdl"
      },
      "outputs": [],
      "source": [
        "#compile model\n",
        "from tensorflow.keras.optimizers import RMSprop\n",
        "\n",
        "model.compile(loss='binary_crossentropy',\n",
        "                optimizer=RMSprop(learning_rate=0.003),\n",
        "                metrics=['acc'])"
      ]
    },
    {
      "cell_type": "code",
      "execution_count": null,
      "metadata": {
        "colab": {
          "base_uri": "https://localhost:8080/"
        },
        "id": "t_7voKD0GBH1",
        "outputId": "c0772881-f35d-44f9-a757-dc796ac09773"
      },
      "outputs": [
        {
          "name": "stdout",
          "output_type": "stream",
          "text": [
            "Epoch 1/15\n",
            "8/8 [==============================] - 32s 4s/step - loss: 2.6005 - acc: 0.5801\n",
            "Epoch 2/15\n",
            "8/8 [==============================] - 30s 4s/step - loss: 0.6470 - acc: 0.7334\n",
            "Epoch 3/15\n",
            "8/8 [==============================] - 30s 4s/step - loss: 0.7393 - acc: 0.6680\n",
            "Epoch 4/15\n",
            "8/8 [==============================] - 31s 4s/step - loss: 0.5071 - acc: 0.7973\n",
            "Epoch 5/15\n",
            "8/8 [==============================] - 30s 4s/step - loss: 0.4976 - acc: 0.7973\n",
            "Epoch 6/15\n",
            "8/8 [==============================] - 31s 4s/step - loss: 0.4468 - acc: 0.8232\n",
            "Epoch 7/15\n",
            "8/8 [==============================] - 31s 4s/step - loss: 0.4444 - acc: 0.8135\n",
            "Epoch 8/15\n",
            "8/8 [==============================] - 31s 4s/step - loss: 0.5361 - acc: 0.7812\n",
            "Epoch 9/15\n",
            "8/8 [==============================] - 32s 4s/step - loss: 0.4408 - acc: 0.8128\n",
            "Epoch 10/15\n",
            "8/8 [==============================] - 30s 4s/step - loss: 0.4593 - acc: 0.8145\n",
            "Epoch 11/15\n",
            "8/8 [==============================] - 30s 4s/step - loss: 0.4456 - acc: 0.8193\n",
            "Epoch 12/15\n",
            "8/8 [==============================] - 30s 4s/step - loss: 0.4432 - acc: 0.8184\n",
            "Epoch 13/15\n",
            "8/8 [==============================] - 30s 4s/step - loss: 0.4882 - acc: 0.7959\n",
            "Epoch 14/15\n",
            "8/8 [==============================] - 29s 4s/step - loss: 0.4863 - acc: 0.8056\n",
            "Epoch 15/15\n",
            "8/8 [==============================] - 30s 4s/step - loss: 0.4576 - acc: 0.7998\n"
          ]
        },
        {
          "data": {
            "text/plain": [
              "<keras.callbacks.History at 0x7f9fb80bf1c0>"
            ]
          },
          "execution_count": 9,
          "metadata": {},
          "output_type": "execute_result"
        }
      ],
      "source": [
        "#train model\n",
        "model.fit(\n",
        "        train_generator,\n",
        "        steps_per_epoch=8,\n",
        "        epochs=15,\n",
        "        verbose=1)"
      ]
    },
    {
      "cell_type": "markdown",
      "metadata": {
        "id": "HfK--hBD5eac"
      },
      "source": [
        "## STOP HERE! DO NOT RUN THE CODE BELOW (it's not finished + it takes a long time to run)"
      ]
    },
    {
      "cell_type": "code",
      "execution_count": null,
      "metadata": {
        "id": "u4Eu-kcOD_e5"
      },
      "outputs": [],
      "source": [
        "from sklearn.preprocessing import MinMaxScaler\n",
        "\n",
        "# Create the scaler\n",
        "scaler = MinMaxScaler()\n",
        "\n",
        "# Flatten the images into a single array\n",
        "X_train_flat = X_train.reshape(-1, X_train.shape[-1])\n",
        "\n",
        "# Fit the scaler to the training data\n",
        "scaler.fit(X_train_flat)\n",
        "\n",
        "# Transform the training data\n",
        "X_train_scaled = scaler.transform(X_train_flat)\n",
        "\n",
        "# Reshape the transformed data back into image format\n",
        "X_train_scaled = X_train_scaled.reshape(*X_train.shape)"
      ]
    },
    {
      "cell_type": "code",
      "execution_count": null,
      "metadata": {
        "id": "P0VYHoQ-vLlG"
      },
      "outputs": [],
      "source": [
        "###Don't run this cell\n",
        "\n",
        "from keras.wrappers.scikit_learn import KerasRegressor\n",
        "from sklearn.ensemble import AdaBoostRegressor\n",
        "\n",
        "ann_estimator = KerasRegressor(build_fn= model, epochs=100, batch_size=10, verbose=0)\n",
        "\n",
        "# Create the AdaBoost classifier\n",
        "adaboost = AdaBoostRegressor(base_estimator=ann_estimator)\n",
        "\n",
        "# Fit the classifier to the training data\n",
        "ann_estimator.fit(X_train_scaled, y_train)"
      ]
    },
    {
      "cell_type": "code",
      "execution_count": null,
      "metadata": {
        "id": "_f8S6LK7MRND"
      },
      "outputs": [],
      "source": [
        "#create a CNN model with ResNet50 layers\n",
        "from tensorflow.keras.applications import ResNet50\n",
        "\n",
        "conv_base = ResNet50(weights='imagenet',\n",
        "                    include_top=False,\n",
        "                    input_shape=(150, 150, 3))\n",
        "\n",
        "model = keras.models.Sequential()\n",
        "model.add(conv_base)\n",
        "model.add(keras.layers.Flatten())\n",
        "model.add(keras.layers.Dense(256, activation='relu'))\n",
        "model.add(keras.layers.Dense(1, activation='sigmoid'))"
      ]
    },
    {
      "cell_type": "code",
      "execution_count": null,
      "metadata": {
        "id": "EwZT8dua8aJA"
      },
      "outputs": [],
      "source": [
        "# DataFrame using arrays.\n",
        "\n",
        "X_train_list = []\n",
        "y_train_list = ([1] * len(train_cancer_list) + [0] * len(train_normal_list))\n",
        "\n",
        "\n",
        "X_train_names = np.array(train_cancer_list + train_normal_list)\n",
        "y_train = np.array(y_train_list)"
      ]
    },
    {
      "cell_type": "code",
      "execution_count": null,
      "metadata": {
        "id": "j44SNqlpCAPC"
      },
      "outputs": [],
      "source": [
        "boosted_ann = AdaBoostRegressor(base_estimator= ann_estimator)\n",
        "boosted_ann.fit(rescaledX, y_train.values.ravel())# scale your training data\n",
        "boosted_ann.predict(rescaledX_Test)"
      ]
    },
    {
      "cell_type": "code",
      "execution_count": null,
      "metadata": {
        "id": "GG7QkFrtMd_Q"
      },
      "outputs": [],
      "source": [
        "y_train.shape"
      ]
    },
    {
      "cell_type": "code",
      "execution_count": null,
      "metadata": {
        "id": "KhhMXQ6e35G6"
      },
      "outputs": [],
      "source": []
    }
  ],
  "metadata": {
    "colab": {
      "provenance": []
    },
    "kernelspec": {
      "display_name": "Python 3",
      "name": "python3"
    },
    "language_info": {
      "codemirror_mode": {
        "name": "ipython",
        "version": 3
      },
      "file_extension": ".py",
      "mimetype": "text/x-python",
      "name": "python",
      "nbconvert_exporter": "python",
      "pygments_lexer": "ipython3",
      "version": "3.11.4"
    }
  },
  "nbformat": 4,
  "nbformat_minor": 0
}
